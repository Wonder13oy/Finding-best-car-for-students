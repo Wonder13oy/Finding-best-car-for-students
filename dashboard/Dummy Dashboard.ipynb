{
 "cells": [
  {
   "cell_type": "code",
   "execution_count": 1,
   "metadata": {},
   "outputs": [],
   "source": [
    "import numpy as np\n",
    "import matplotlib.pyplot as plt\n",
    "import pandas as pd"
   ]
  },
  {
   "cell_type": "code",
   "execution_count": 2,
   "metadata": {},
   "outputs": [],
   "source": [
    "cars_df = pd.read_csv('../dataset/car_prices.csv')"
   ]
  },
  {
   "cell_type": "code",
   "execution_count": 3,
   "metadata": {},
   "outputs": [
    {
     "data": {
      "text/html": [
       "<div>\n",
       "<style scoped>\n",
       "    .dataframe tbody tr th:only-of-type {\n",
       "        vertical-align: middle;\n",
       "    }\n",
       "\n",
       "    .dataframe tbody tr th {\n",
       "        vertical-align: top;\n",
       "    }\n",
       "\n",
       "    .dataframe thead th {\n",
       "        text-align: right;\n",
       "    }\n",
       "</style>\n",
       "<table border=\"1\" class=\"dataframe\">\n",
       "  <thead>\n",
       "    <tr style=\"text-align: right;\">\n",
       "      <th></th>\n",
       "      <th>brand</th>\n",
       "      <th>year</th>\n",
       "      <th>mileage</th>\n",
       "      <th>price</th>\n",
       "      <th>fee per month</th>\n",
       "    </tr>\n",
       "  </thead>\n",
       "  <tbody>\n",
       "    <tr>\n",
       "      <th>0</th>\n",
       "      <td>CHERY</td>\n",
       "      <td>2014</td>\n",
       "      <td>78876</td>\n",
       "      <td>59900.0</td>\n",
       "      <td>1139.0</td>\n",
       "    </tr>\n",
       "    <tr>\n",
       "      <th>1</th>\n",
       "      <td>KIA</td>\n",
       "      <td>2010</td>\n",
       "      <td>125000</td>\n",
       "      <td>69900.0</td>\n",
       "      <td>1330.0</td>\n",
       "    </tr>\n",
       "    <tr>\n",
       "      <th>2</th>\n",
       "      <td>TOYOTA</td>\n",
       "      <td>2008</td>\n",
       "      <td>112585</td>\n",
       "      <td>79890.0</td>\n",
       "      <td>1520.0</td>\n",
       "    </tr>\n",
       "    <tr>\n",
       "      <th>3</th>\n",
       "      <td>CHEVROLET</td>\n",
       "      <td>2010</td>\n",
       "      <td>155000</td>\n",
       "      <td>79900.0</td>\n",
       "      <td>1520.0</td>\n",
       "    </tr>\n",
       "    <tr>\n",
       "      <th>4</th>\n",
       "      <td>NISSAN</td>\n",
       "      <td>2011</td>\n",
       "      <td>90010</td>\n",
       "      <td>79900.0</td>\n",
       "      <td>1520.0</td>\n",
       "    </tr>\n",
       "  </tbody>\n",
       "</table>\n",
       "</div>"
      ],
      "text/plain": [
       "       brand  year  mileage    price  fee per month\n",
       "0      CHERY  2014    78876  59900.0         1139.0\n",
       "1        KIA  2010   125000  69900.0         1330.0\n",
       "2     TOYOTA  2008   112585  79890.0         1520.0\n",
       "3  CHEVROLET  2010   155000  79900.0         1520.0\n",
       "4     NISSAN  2011    90010  79900.0         1520.0"
      ]
     },
     "execution_count": 3,
     "metadata": {},
     "output_type": "execute_result"
    }
   ],
   "source": [
    "cars_df.head()"
   ]
  },
  {
   "cell_type": "code",
   "execution_count": 4,
   "metadata": {},
   "outputs": [
    {
     "data": {
      "text/plain": [
       "brand            0\n",
       "year             0\n",
       "mileage          0\n",
       "price            0\n",
       "fee per month    0\n",
       "dtype: int64"
      ]
     },
     "execution_count": 4,
     "metadata": {},
     "output_type": "execute_result"
    }
   ],
   "source": [
    "cars_df.isnull().sum()"
   ]
  },
  {
   "cell_type": "code",
   "execution_count": 5,
   "metadata": {},
   "outputs": [
    {
     "data": {
      "text/html": [
       "<div>\n",
       "<style scoped>\n",
       "    .dataframe tbody tr th:only-of-type {\n",
       "        vertical-align: middle;\n",
       "    }\n",
       "\n",
       "    .dataframe tbody tr th {\n",
       "        vertical-align: top;\n",
       "    }\n",
       "\n",
       "    .dataframe thead th {\n",
       "        text-align: right;\n",
       "    }\n",
       "</style>\n",
       "<table border=\"1\" class=\"dataframe\">\n",
       "  <thead>\n",
       "    <tr style=\"text-align: right;\">\n",
       "      <th></th>\n",
       "      <th>brand</th>\n",
       "      <th>year</th>\n",
       "      <th>mileage</th>\n",
       "      <th>price</th>\n",
       "      <th>fee per month</th>\n",
       "    </tr>\n",
       "  </thead>\n",
       "  <tbody>\n",
       "    <tr>\n",
       "      <th>149</th>\n",
       "      <td>ALFA</td>\n",
       "      <td>2011</td>\n",
       "      <td>119000</td>\n",
       "      <td>125000.0</td>\n",
       "      <td>2378.0</td>\n",
       "    </tr>\n",
       "    <tr>\n",
       "      <th>519</th>\n",
       "      <td>AUDI</td>\n",
       "      <td>2013</td>\n",
       "      <td>140000</td>\n",
       "      <td>169900.0</td>\n",
       "      <td>3232.0</td>\n",
       "    </tr>\n",
       "    <tr>\n",
       "      <th>305</th>\n",
       "      <td>AUDI</td>\n",
       "      <td>2014</td>\n",
       "      <td>92300</td>\n",
       "      <td>145995.0</td>\n",
       "      <td>2777.0</td>\n",
       "    </tr>\n",
       "    <tr>\n",
       "      <th>577</th>\n",
       "      <td>AUDI</td>\n",
       "      <td>2013</td>\n",
       "      <td>101400</td>\n",
       "      <td>174800.0</td>\n",
       "      <td>3325.0</td>\n",
       "    </tr>\n",
       "    <tr>\n",
       "      <th>116</th>\n",
       "      <td>AUDI</td>\n",
       "      <td>2008</td>\n",
       "      <td>170000</td>\n",
       "      <td>119900.0</td>\n",
       "      <td>2281.0</td>\n",
       "    </tr>\n",
       "    <tr>\n",
       "      <th>...</th>\n",
       "      <td>...</td>\n",
       "      <td>...</td>\n",
       "      <td>...</td>\n",
       "      <td>...</td>\n",
       "      <td>...</td>\n",
       "    </tr>\n",
       "    <tr>\n",
       "      <th>545</th>\n",
       "      <td>VOLKSWAGEN</td>\n",
       "      <td>2019</td>\n",
       "      <td>40235</td>\n",
       "      <td>169900.0</td>\n",
       "      <td>3232.0</td>\n",
       "    </tr>\n",
       "    <tr>\n",
       "      <th>697</th>\n",
       "      <td>VOLKSWAGEN</td>\n",
       "      <td>2019</td>\n",
       "      <td>2259</td>\n",
       "      <td>183900.0</td>\n",
       "      <td>3498.0</td>\n",
       "    </tr>\n",
       "    <tr>\n",
       "      <th>42</th>\n",
       "      <td>VOLVO</td>\n",
       "      <td>2005</td>\n",
       "      <td>195000</td>\n",
       "      <td>99900.0</td>\n",
       "      <td>1900.0</td>\n",
       "    </tr>\n",
       "    <tr>\n",
       "      <th>71</th>\n",
       "      <td>VOLVO</td>\n",
       "      <td>2010</td>\n",
       "      <td>155000</td>\n",
       "      <td>108700.0</td>\n",
       "      <td>2068.0</td>\n",
       "    </tr>\n",
       "    <tr>\n",
       "      <th>86</th>\n",
       "      <td>VOLVO</td>\n",
       "      <td>2012</td>\n",
       "      <td>118600</td>\n",
       "      <td>109900.0</td>\n",
       "      <td>2091.0</td>\n",
       "    </tr>\n",
       "  </tbody>\n",
       "</table>\n",
       "<p>698 rows × 5 columns</p>\n",
       "</div>"
      ],
      "text/plain": [
       "          brand  year  mileage     price  fee per month\n",
       "149        ALFA  2011   119000  125000.0         2378.0\n",
       "519        AUDI  2013   140000  169900.0         3232.0\n",
       "305        AUDI  2014    92300  145995.0         2777.0\n",
       "577        AUDI  2013   101400  174800.0         3325.0\n",
       "116        AUDI  2008   170000  119900.0         2281.0\n",
       "..          ...   ...      ...       ...            ...\n",
       "545  VOLKSWAGEN  2019    40235  169900.0         3232.0\n",
       "697  VOLKSWAGEN  2019     2259  183900.0         3498.0\n",
       "42        VOLVO  2005   195000   99900.0         1900.0\n",
       "71        VOLVO  2010   155000  108700.0         2068.0\n",
       "86        VOLVO  2012   118600  109900.0         2091.0\n",
       "\n",
       "[698 rows x 5 columns]"
      ]
     },
     "execution_count": 5,
     "metadata": {},
     "output_type": "execute_result"
    }
   ],
   "source": [
    "cars_sorted = cars_df.sort_values('brand')\n",
    "cars_sorted"
   ]
  },
  {
   "cell_type": "code",
   "execution_count": 6,
   "metadata": {},
   "outputs": [
    {
     "data": {
      "text/html": [
       "<div>\n",
       "<style scoped>\n",
       "    .dataframe tbody tr th:only-of-type {\n",
       "        vertical-align: middle;\n",
       "    }\n",
       "\n",
       "    .dataframe tbody tr th {\n",
       "        vertical-align: top;\n",
       "    }\n",
       "\n",
       "    .dataframe thead th {\n",
       "        text-align: right;\n",
       "    }\n",
       "</style>\n",
       "<table border=\"1\" class=\"dataframe\">\n",
       "  <thead>\n",
       "    <tr style=\"text-align: right;\">\n",
       "      <th></th>\n",
       "      <th>brand</th>\n",
       "      <th>year</th>\n",
       "      <th>mileage</th>\n",
       "      <th>price</th>\n",
       "      <th>fee per month</th>\n",
       "    </tr>\n",
       "  </thead>\n",
       "  <tbody>\n",
       "    <tr>\n",
       "      <th>count</th>\n",
       "      <td>698</td>\n",
       "      <td>698.000000</td>\n",
       "      <td>698.000000</td>\n",
       "      <td>698.000000</td>\n",
       "      <td>698.000000</td>\n",
       "    </tr>\n",
       "    <tr>\n",
       "      <th>unique</th>\n",
       "      <td>31</td>\n",
       "      <td>NaN</td>\n",
       "      <td>NaN</td>\n",
       "      <td>NaN</td>\n",
       "      <td>NaN</td>\n",
       "    </tr>\n",
       "    <tr>\n",
       "      <th>top</th>\n",
       "      <td>VOLKSWAGEN</td>\n",
       "      <td>NaN</td>\n",
       "      <td>NaN</td>\n",
       "      <td>NaN</td>\n",
       "      <td>NaN</td>\n",
       "    </tr>\n",
       "    <tr>\n",
       "      <th>freq</th>\n",
       "      <td>123</td>\n",
       "      <td>NaN</td>\n",
       "      <td>NaN</td>\n",
       "      <td>NaN</td>\n",
       "      <td>NaN</td>\n",
       "    </tr>\n",
       "    <tr>\n",
       "      <th>mean</th>\n",
       "      <td>NaN</td>\n",
       "      <td>2016.416905</td>\n",
       "      <td>57298.991404</td>\n",
       "      <td>147157.763610</td>\n",
       "      <td>2799.402579</td>\n",
       "    </tr>\n",
       "    <tr>\n",
       "      <th>std</th>\n",
       "      <td>NaN</td>\n",
       "      <td>2.767323</td>\n",
       "      <td>50377.424578</td>\n",
       "      <td>25796.828365</td>\n",
       "      <td>490.722867</td>\n",
       "    </tr>\n",
       "    <tr>\n",
       "      <th>min</th>\n",
       "      <td>NaN</td>\n",
       "      <td>2001.000000</td>\n",
       "      <td>1.000000</td>\n",
       "      <td>59900.000000</td>\n",
       "      <td>1139.000000</td>\n",
       "    </tr>\n",
       "    <tr>\n",
       "      <th>25%</th>\n",
       "      <td>NaN</td>\n",
       "      <td>2015.000000</td>\n",
       "      <td>14693.500000</td>\n",
       "      <td>129900.000000</td>\n",
       "      <td>2471.000000</td>\n",
       "    </tr>\n",
       "    <tr>\n",
       "      <th>50%</th>\n",
       "      <td>NaN</td>\n",
       "      <td>2017.000000</td>\n",
       "      <td>45000.000000</td>\n",
       "      <td>149950.000000</td>\n",
       "      <td>2853.000000</td>\n",
       "    </tr>\n",
       "    <tr>\n",
       "      <th>75%</th>\n",
       "      <td>NaN</td>\n",
       "      <td>2019.000000</td>\n",
       "      <td>90000.000000</td>\n",
       "      <td>169900.000000</td>\n",
       "      <td>3232.000000</td>\n",
       "    </tr>\n",
       "    <tr>\n",
       "      <th>max</th>\n",
       "      <td>NaN</td>\n",
       "      <td>2019.000000</td>\n",
       "      <td>301558.000000</td>\n",
       "      <td>183900.000000</td>\n",
       "      <td>3498.000000</td>\n",
       "    </tr>\n",
       "  </tbody>\n",
       "</table>\n",
       "</div>"
      ],
      "text/plain": [
       "             brand         year        mileage          price  fee per month\n",
       "count          698   698.000000     698.000000     698.000000     698.000000\n",
       "unique          31          NaN            NaN            NaN            NaN\n",
       "top     VOLKSWAGEN          NaN            NaN            NaN            NaN\n",
       "freq           123          NaN            NaN            NaN            NaN\n",
       "mean           NaN  2016.416905   57298.991404  147157.763610    2799.402579\n",
       "std            NaN     2.767323   50377.424578   25796.828365     490.722867\n",
       "min            NaN  2001.000000       1.000000   59900.000000    1139.000000\n",
       "25%            NaN  2015.000000   14693.500000  129900.000000    2471.000000\n",
       "50%            NaN  2017.000000   45000.000000  149950.000000    2853.000000\n",
       "75%            NaN  2019.000000   90000.000000  169900.000000    3232.000000\n",
       "max            NaN  2019.000000  301558.000000  183900.000000    3498.000000"
      ]
     },
     "execution_count": 6,
     "metadata": {},
     "output_type": "execute_result"
    }
   ],
   "source": [
    "cars_sorted.describe(include='all')"
   ]
  },
  {
   "cell_type": "code",
   "execution_count": 7,
   "metadata": {},
   "outputs": [
    {
     "data": {
      "text/html": [
       "<div>\n",
       "<style scoped>\n",
       "    .dataframe tbody tr th:only-of-type {\n",
       "        vertical-align: middle;\n",
       "    }\n",
       "\n",
       "    .dataframe tbody tr th {\n",
       "        vertical-align: top;\n",
       "    }\n",
       "\n",
       "    .dataframe thead th {\n",
       "        text-align: right;\n",
       "    }\n",
       "</style>\n",
       "<table border=\"1\" class=\"dataframe\">\n",
       "  <thead>\n",
       "    <tr style=\"text-align: right;\">\n",
       "      <th></th>\n",
       "      <th>brand</th>\n",
       "      <th>year</th>\n",
       "      <th>mileage</th>\n",
       "      <th>price</th>\n",
       "      <th>fee per month</th>\n",
       "    </tr>\n",
       "  </thead>\n",
       "  <tbody>\n",
       "    <tr>\n",
       "      <th>count</th>\n",
       "      <td>698</td>\n",
       "      <td>698.000000</td>\n",
       "      <td>698.000000</td>\n",
       "      <td>698.000000</td>\n",
       "      <td>698.000000</td>\n",
       "    </tr>\n",
       "    <tr>\n",
       "      <th>unique</th>\n",
       "      <td>31</td>\n",
       "      <td>NaN</td>\n",
       "      <td>NaN</td>\n",
       "      <td>NaN</td>\n",
       "      <td>NaN</td>\n",
       "    </tr>\n",
       "    <tr>\n",
       "      <th>top</th>\n",
       "      <td>VOLKSWAGEN</td>\n",
       "      <td>NaN</td>\n",
       "      <td>NaN</td>\n",
       "      <td>NaN</td>\n",
       "      <td>NaN</td>\n",
       "    </tr>\n",
       "    <tr>\n",
       "      <th>freq</th>\n",
       "      <td>123</td>\n",
       "      <td>NaN</td>\n",
       "      <td>NaN</td>\n",
       "      <td>NaN</td>\n",
       "      <td>NaN</td>\n",
       "    </tr>\n",
       "    <tr>\n",
       "      <th>mean</th>\n",
       "      <td>NaN</td>\n",
       "      <td>2016.416905</td>\n",
       "      <td>57298.991404</td>\n",
       "      <td>147157.763610</td>\n",
       "      <td>2799.402579</td>\n",
       "    </tr>\n",
       "    <tr>\n",
       "      <th>std</th>\n",
       "      <td>NaN</td>\n",
       "      <td>2.767323</td>\n",
       "      <td>50377.424578</td>\n",
       "      <td>25796.828365</td>\n",
       "      <td>490.722867</td>\n",
       "    </tr>\n",
       "    <tr>\n",
       "      <th>min</th>\n",
       "      <td>NaN</td>\n",
       "      <td>2001.000000</td>\n",
       "      <td>1.000000</td>\n",
       "      <td>59900.000000</td>\n",
       "      <td>1139.000000</td>\n",
       "    </tr>\n",
       "    <tr>\n",
       "      <th>25%</th>\n",
       "      <td>NaN</td>\n",
       "      <td>2015.000000</td>\n",
       "      <td>14693.500000</td>\n",
       "      <td>129900.000000</td>\n",
       "      <td>2471.000000</td>\n",
       "    </tr>\n",
       "    <tr>\n",
       "      <th>50%</th>\n",
       "      <td>NaN</td>\n",
       "      <td>2017.000000</td>\n",
       "      <td>45000.000000</td>\n",
       "      <td>149950.000000</td>\n",
       "      <td>2853.000000</td>\n",
       "    </tr>\n",
       "    <tr>\n",
       "      <th>75%</th>\n",
       "      <td>NaN</td>\n",
       "      <td>2019.000000</td>\n",
       "      <td>90000.000000</td>\n",
       "      <td>169900.000000</td>\n",
       "      <td>3232.000000</td>\n",
       "    </tr>\n",
       "    <tr>\n",
       "      <th>max</th>\n",
       "      <td>NaN</td>\n",
       "      <td>2019.000000</td>\n",
       "      <td>301558.000000</td>\n",
       "      <td>183900.000000</td>\n",
       "      <td>3498.000000</td>\n",
       "    </tr>\n",
       "  </tbody>\n",
       "</table>\n",
       "</div>"
      ],
      "text/plain": [
       "             brand         year        mileage          price  fee per month\n",
       "count          698   698.000000     698.000000     698.000000     698.000000\n",
       "unique          31          NaN            NaN            NaN            NaN\n",
       "top     VOLKSWAGEN          NaN            NaN            NaN            NaN\n",
       "freq           123          NaN            NaN            NaN            NaN\n",
       "mean           NaN  2016.416905   57298.991404  147157.763610    2799.402579\n",
       "std            NaN     2.767323   50377.424578   25796.828365     490.722867\n",
       "min            NaN  2001.000000       1.000000   59900.000000    1139.000000\n",
       "25%            NaN  2015.000000   14693.500000  129900.000000    2471.000000\n",
       "50%            NaN  2017.000000   45000.000000  149950.000000    2853.000000\n",
       "75%            NaN  2019.000000   90000.000000  169900.000000    3232.000000\n",
       "max            NaN  2019.000000  301558.000000  183900.000000    3498.000000"
      ]
     },
     "execution_count": 7,
     "metadata": {},
     "output_type": "execute_result"
    }
   ],
   "source": [
    "cars_df.mileage\n",
    "\n",
    "car2 = []\n",
    "\n",
    "for car in cars_df.mileage:\n",
    "    car2.append(int(car))\n",
    "    \n",
    "cars_df.mileage = car2\n",
    "cars_df.describe(include='all')"
   ]
  },
  {
   "cell_type": "code",
   "execution_count": 8,
   "metadata": {},
   "outputs": [
    {
     "data": {
      "text/plain": [
       "119000"
      ]
     },
     "execution_count": 8,
     "metadata": {},
     "output_type": "execute_result"
    }
   ],
   "source": [
    "car_names = cars_sorted.brand.unique()\n",
    "\n",
    "new_df = []\n",
    "\n",
    "for name in car_names:\n",
    "    new_df.append([name, sum(cars_sorted[cars_sorted.brand == name].mileage)])\n",
    "\n",
    "old_cars = cars_sorted.nlargest(10, 'mileage')\n",
    "sum(cars_sorted[cars_sorted.brand == 'ALFA'].mileage)"
   ]
  },
  {
   "cell_type": "code",
   "execution_count": 9,
   "metadata": {},
   "outputs": [
    {
     "data": {
      "text/html": [
       "<div>\n",
       "<style scoped>\n",
       "    .dataframe tbody tr th:only-of-type {\n",
       "        vertical-align: middle;\n",
       "    }\n",
       "\n",
       "    .dataframe tbody tr th {\n",
       "        vertical-align: top;\n",
       "    }\n",
       "\n",
       "    .dataframe thead th {\n",
       "        text-align: right;\n",
       "    }\n",
       "</style>\n",
       "<table border=\"1\" class=\"dataframe\">\n",
       "  <thead>\n",
       "    <tr style=\"text-align: right;\">\n",
       "      <th></th>\n",
       "      <th>brand</th>\n",
       "      <th>year</th>\n",
       "      <th>mileage</th>\n",
       "      <th>price</th>\n",
       "      <th>fee per month</th>\n",
       "    </tr>\n",
       "  </thead>\n",
       "  <tbody>\n",
       "    <tr>\n",
       "      <th>489</th>\n",
       "      <td>DATSUN</td>\n",
       "      <td>2019</td>\n",
       "      <td>1</td>\n",
       "      <td>164990.0</td>\n",
       "      <td>3139.0</td>\n",
       "    </tr>\n",
       "    <tr>\n",
       "      <th>605</th>\n",
       "      <td>DATSUN</td>\n",
       "      <td>2019</td>\n",
       "      <td>1</td>\n",
       "      <td>175899.0</td>\n",
       "      <td>3346.0</td>\n",
       "    </tr>\n",
       "    <tr>\n",
       "      <th>403</th>\n",
       "      <td>NISSAN</td>\n",
       "      <td>2019</td>\n",
       "      <td>1</td>\n",
       "      <td>159899.0</td>\n",
       "      <td>3042.0</td>\n",
       "    </tr>\n",
       "    <tr>\n",
       "      <th>133</th>\n",
       "      <td>NISSAN</td>\n",
       "      <td>2019</td>\n",
       "      <td>1</td>\n",
       "      <td>123000.0</td>\n",
       "      <td>2340.0</td>\n",
       "    </tr>\n",
       "    <tr>\n",
       "      <th>562</th>\n",
       "      <td>NISSAN</td>\n",
       "      <td>2019</td>\n",
       "      <td>1</td>\n",
       "      <td>170000.0</td>\n",
       "      <td>3234.0</td>\n",
       "    </tr>\n",
       "    <tr>\n",
       "      <th>355</th>\n",
       "      <td>NISSAN</td>\n",
       "      <td>2019</td>\n",
       "      <td>7</td>\n",
       "      <td>149990.0</td>\n",
       "      <td>2853.0</td>\n",
       "    </tr>\n",
       "    <tr>\n",
       "      <th>354</th>\n",
       "      <td>NISSAN</td>\n",
       "      <td>2019</td>\n",
       "      <td>7</td>\n",
       "      <td>149990.0</td>\n",
       "      <td>2853.0</td>\n",
       "    </tr>\n",
       "    <tr>\n",
       "      <th>626</th>\n",
       "      <td>HONDA</td>\n",
       "      <td>2019</td>\n",
       "      <td>16</td>\n",
       "      <td>179900.0</td>\n",
       "      <td>3422.0</td>\n",
       "    </tr>\n",
       "    <tr>\n",
       "      <th>314</th>\n",
       "      <td>NISSAN</td>\n",
       "      <td>2019</td>\n",
       "      <td>100</td>\n",
       "      <td>149800.0</td>\n",
       "      <td>2850.0</td>\n",
       "    </tr>\n",
       "    <tr>\n",
       "      <th>571</th>\n",
       "      <td>TOYOTA</td>\n",
       "      <td>2019</td>\n",
       "      <td>100</td>\n",
       "      <td>172900.0</td>\n",
       "      <td>3289.0</td>\n",
       "    </tr>\n",
       "  </tbody>\n",
       "</table>\n",
       "</div>"
      ],
      "text/plain": [
       "      brand  year  mileage     price  fee per month\n",
       "489  DATSUN  2019        1  164990.0         3139.0\n",
       "605  DATSUN  2019        1  175899.0         3346.0\n",
       "403  NISSAN  2019        1  159899.0         3042.0\n",
       "133  NISSAN  2019        1  123000.0         2340.0\n",
       "562  NISSAN  2019        1  170000.0         3234.0\n",
       "355  NISSAN  2019        7  149990.0         2853.0\n",
       "354  NISSAN  2019        7  149990.0         2853.0\n",
       "626   HONDA  2019       16  179900.0         3422.0\n",
       "314  NISSAN  2019      100  149800.0         2850.0\n",
       "571  TOYOTA  2019      100  172900.0         3289.0"
      ]
     },
     "execution_count": 9,
     "metadata": {},
     "output_type": "execute_result"
    }
   ],
   "source": [
    "new_cars = cars_sorted.nsmallest(10, 'mileage')\n",
    "new_cars"
   ]
  },
  {
   "cell_type": "code",
   "execution_count": 10,
   "metadata": {},
   "outputs": [
    {
     "data": {
      "text/plain": [
       "Text(0.5, 0, 'Total Price')"
      ]
     },
     "execution_count": 10,
     "metadata": {},
     "output_type": "execute_result"
    },
    {
     "data": {
      "image/png": "[encoded data removed]",
      "text/plain": [
       "<Figure size 432x288 with 1 Axes>"
      ]
     },
     "metadata": {
      "needs_background": "light"
     },
     "output_type": "display_data"
    }
   ],
   "source": [
    "plt.title('Fee per month vs Total price')\n",
    "plt.scatter(cars_sorted.price,cars_sorted['fee per month'])\n",
    "plt.ylabel('Fee per month')\n",
    "plt.xlabel('Total Price')"
   ]
  },
  {
   "cell_type": "code",
   "execution_count": 11,
   "metadata": {},
   "outputs": [
    {
     "data": {
      "image/png": "[encoded data removed]",
      "text/plain": [
       "<Figure size 432x288 with 1 Axes>"
      ]
     },
     "metadata": {
      "needs_background": "light"
     },
     "output_type": "display_data"
    }
   ],
   "source": [
    "plt.barh(old_cars.brand, old_cars.price, label=\"cars with highest mileage\")\n",
    "plt.barh(new_cars.brand, new_cars.price, label=\"cars with lowest mileage\")\n",
    "plt.legend(loc='lower left')\n",
    "plt.show()"
   ]
  },
  {
   "cell_type": "code",
   "execution_count": 12,
   "metadata": {},
   "outputs": [
    {
     "data": {
      "text/plain": [
       "{'whiskers': [<matplotlib.lines.Line2D at 0x7f332bac54a8>,\n",
       "  <matplotlib.lines.Line2D at 0x7f332bac5860>,\n",
       "  <matplotlib.lines.Line2D at 0x7f332bad2c50>,\n",
       "  <matplotlib.lines.Line2D at 0x7f332bad2f98>],\n",
       " 'caps': [<matplotlib.lines.Line2D at 0x7f332bac5ba8>,\n",
       "  <matplotlib.lines.Line2D at 0x7f332bac5ef0>,\n",
       "  <matplotlib.lines.Line2D at 0x7f332ba5d320>,\n",
       "  <matplotlib.lines.Line2D at 0x7f332ba5d668>],\n",
       " 'boxes': [<matplotlib.lines.Line2D at 0x7f332bac5128>,\n",
       "  <matplotlib.lines.Line2D at 0x7f332bad28d0>],\n",
       " 'medians': [<matplotlib.lines.Line2D at 0x7f332bad2278>,\n",
       "  <matplotlib.lines.Line2D at 0x7f332ba5d9b0>],\n",
       " 'fliers': [<matplotlib.lines.Line2D at 0x7f332bad25c0>,\n",
       "  <matplotlib.lines.Line2D at 0x7f332ba5dcf8>],\n",
       " 'means': []}"
      ]
     },
     "execution_count": 12,
     "metadata": {},
     "output_type": "execute_result"
    },
    {
     "data": {
      "image/png": "[encoded data removed]",
      "text/plain": [
       "<Figure size 432x288 with 1 Axes>"
      ]
     },
     "metadata": {
      "needs_background": "light"
     },
     "output_type": "display_data"
    }
   ],
   "source": [
    "plt.boxplot([old_cars.price, old_cars.mileage])"
   ]
  },
  {
   "cell_type": "code",
   "execution_count": 13,
   "metadata": {},
   "outputs": [
    {
     "data": {
      "text/plain": [
       "[<matplotlib.lines.Line2D at 0x7f332cc76c18>]"
      ]
     },
     "execution_count": 13,
     "metadata": {},
     "output_type": "execute_result"
    },
    {
     "data": {
      "image/png": "[encoded data removed]",
      "text/plain": [
       "<Figure size 432x288 with 1 Axes>"
      ]
     },
     "metadata": {
      "needs_background": "light"
     },
     "output_type": "display_data"
    }
   ],
   "source": [
    "vw_cars = cars_df[cars_df.brand == 'VOLKSWAGEN'].sort_values('year')\n",
    "\n",
    "sums = []\n",
    "avgs = []\n",
    "\n",
    "for year in vw_cars.year:\n",
    "    x = sum(vw_cars[vw_cars.year == year].price)\n",
    "    y = np.average(vw_cars[vw_cars.year == year].price)\n",
    "    sums.append(x)\n",
    "    avgs.append(y)\n",
    "\n",
    "# plt.plot(vw_cars.year, sums, marker='o')\n",
    "plt.plot(vw_cars.year, avgs, marker='o')"
   ]
  },
  {
   "cell_type": "code",
   "execution_count": null,
   "metadata": {},
   "outputs": [],
   "source": []
  }
 ],
 "metadata": {
  "kernelspec": {
   "display_name": "Python 3",
   "language": "python",
   "name": "python3"
  },
  "language_info": {
   "codemirror_mode": {
    "name": "ipython",
    "version": 3
   },
   "file_extension": ".py",
   "mimetype": "text/x-python",
   "name": "python",
   "nbconvert_exporter": "python",
   "pygments_lexer": "ipython3",
   "version": "3.6.9"
  }
 },
 "nbformat": 4,
 "nbformat_minor": 2
}
